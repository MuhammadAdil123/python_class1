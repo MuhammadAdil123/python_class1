{
 "cells": [
  {
   "cell_type": "code",
   "execution_count": 5,
   "id": "05511d92",
   "metadata": {},
   "outputs": [
    {
     "name": "stdout",
     "output_type": "stream",
     "text": [
      "ABCD\n"
     ]
    }
   ],
   "source": [
    "print(\"A\",\"B\",\"C\",\"D\",sep=\"\")\n"
   ]
  },
  {
   "cell_type": "code",
   "execution_count": 6,
   "id": "58febe91",
   "metadata": {},
   "outputs": [
    {
     "name": "stdout",
     "output_type": "stream",
     "text": [
      "A*B*C*D\n"
     ]
    }
   ],
   "source": [
    "print(\"A\",\"B\",\"C\",\"D\",sep=\"*\")\n"
   ]
  },
  {
   "cell_type": "code",
   "execution_count": 7,
   "id": "45fe960a",
   "metadata": {},
   "outputs": [
    {
     "name": "stdout",
     "output_type": "stream",
     "text": [
      "A%B%C%D\n"
     ]
    }
   ],
   "source": [
    "print(\"A\",\"B\",\"C\",\"D\",sep=\"%\")\n"
   ]
  },
  {
   "cell_type": "code",
   "execution_count": 14,
   "id": "42cd7dfc",
   "metadata": {},
   "outputs": [
    {
     "name": "stdout",
     "output_type": "stream",
     "text": [
      "line1>>>line2>>>line3>>>"
     ]
    }
   ],
   "source": [
    "print(\"line1\", end='>>>')\n",
    "print(\"line2\", end='>>>')\n",
    "print(\"line3\", end='>>>')"
   ]
  },
  {
   "cell_type": "code",
   "execution_count": 15,
   "id": "89f4c03a",
   "metadata": {},
   "outputs": [
    {
     "name": "stdout",
     "output_type": "stream",
     "text": [
      "1 2 3 4\n",
      "A B C d\n",
      "i ii iii iv\n"
     ]
    }
   ],
   "source": [
    "print(1,2,3,4)\n",
    "print(\"A\",\"B\",\"C\",'d')\n",
    "print(\"i\",\"ii\",\"iii\",\"iv\")"
   ]
  },
  {
   "cell_type": "code",
   "execution_count": 16,
   "id": "b32bc31c",
   "metadata": {},
   "outputs": [
    {
     "name": "stdout",
     "output_type": "stream",
     "text": [
      "1*2*3*4\n",
      "A>B>C>d\n",
      "i<ii<iii<iv\n"
     ]
    }
   ],
   "source": [
    "print(1,2,3,4,sep=\"*\")\n",
    "print(\"A\",\"B\",\"C\",'d', sep=\">\")\n",
    "print(\"i\",\"ii\",\"iii\",\"iv\", sep=\"<\")"
   ]
  },
  {
   "cell_type": "code",
   "execution_count": 17,
   "id": "184a01e5",
   "metadata": {},
   "outputs": [
    {
     "name": "stdout",
     "output_type": "stream",
     "text": [
      "Muhammad Adil\n"
     ]
    }
   ],
   "source": [
    "name=\"Muhammad Adil\"\n",
    "print(name)"
   ]
  },
  {
   "cell_type": "code",
   "execution_count": 19,
   "id": "05e5b9cc",
   "metadata": {},
   "outputs": [
    {
     "name": "stdout",
     "output_type": "stream",
     "text": [
      "Hi Sir Muhammad Adil your Salary is 5000\n"
     ]
    }
   ],
   "source": [
    "name=\"Muhammad Adil\"\n",
    "salary=\"5000\"\n",
    "print(\"Hi Sir\",name,\"your Salary is\",salary)"
   ]
  },
  {
   "cell_type": "code",
   "execution_count": 20,
   "id": "2ede92bf",
   "metadata": {},
   "outputs": [
    {
     "name": "stdout",
     "output_type": "stream",
     "text": [
      "\n",
      "Good morning!\n",
      "for coming to:\n",
      "Our Hote\n",
      "\n"
     ]
    }
   ],
   "source": [
    "greeting='''\n",
    "Good morning!\n",
    "for coming to:\n",
    "Our Hote\n",
    "'''\n",
    "print(greeting)"
   ]
  },
  {
   "cell_type": "code",
   "execution_count": 23,
   "id": "6d3c4fd6",
   "metadata": {},
   "outputs": [
    {
     "name": "stdout",
     "output_type": "stream",
     "text": [
      "welcome Mr \"Muhammad Adil\"\n"
     ]
    }
   ],
   "source": [
    "print(\"welcome Mr \\\"Muhammad Adil\\\"\")"
   ]
  },
  {
   "cell_type": "code",
   "execution_count": 25,
   "id": "2dbf3d3f",
   "metadata": {},
   "outputs": [
    {
     "name": "stdout",
     "output_type": "stream",
     "text": [
      "<class 'str'>\n",
      "13\n",
      "314307294512\n",
      "['__add__', '__class__', '__contains__', '__delattr__', '__dir__', '__doc__', '__eq__', '__format__', '__ge__', '__getattribute__', '__getitem__', '__getnewargs__', '__gt__', '__hash__', '__init__', '__init_subclass__', '__iter__', '__le__', '__len__', '__lt__', '__mod__', '__mul__', '__ne__', '__new__', '__reduce__', '__reduce_ex__', '__repr__', '__rmod__', '__rmul__', '__setattr__', '__sizeof__', '__str__', '__subclasshook__', 'capitalize', 'casefold', 'center', 'count', 'encode', 'endswith', 'expandtabs', 'find', 'format', 'format_map', 'index', 'isalnum', 'isalpha', 'isascii', 'isdecimal', 'isdigit', 'isidentifier', 'islower', 'isnumeric', 'isprintable', 'isspace', 'istitle', 'isupper', 'join', 'ljust', 'lower', 'lstrip', 'maketrans', 'partition', 'removeprefix', 'removesuffix', 'replace', 'rfind', 'rindex', 'rjust', 'rpartition', 'rsplit', 'rstrip', 'split', 'splitlines', 'startswith', 'strip', 'swapcase', 'title', 'translate', 'upper', 'zfill']\n"
     ]
    }
   ],
   "source": [
    "name=\"Muhammad Adil\"\n",
    "print(type(name))\n",
    "print(len(name))\n",
    "print(id(name))\n",
    "print(dir(name))"
   ]
  },
  {
   "cell_type": "code",
   "execution_count": null,
   "id": "44752268",
   "metadata": {},
   "outputs": [],
   "source": []
  }
 ],
 "metadata": {
  "kernelspec": {
   "display_name": "Python 3 (ipykernel)",
   "language": "python",
   "name": "python3"
  },
  "language_info": {
   "codemirror_mode": {
    "name": "ipython",
    "version": 3
   },
   "file_extension": ".py",
   "mimetype": "text/x-python",
   "name": "python",
   "nbconvert_exporter": "python",
   "pygments_lexer": "ipython3",
   "version": "3.9.12"
  }
 },
 "nbformat": 4,
 "nbformat_minor": 5
}
