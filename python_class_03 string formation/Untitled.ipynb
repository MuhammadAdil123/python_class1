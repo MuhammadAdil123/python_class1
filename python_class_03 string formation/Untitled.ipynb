{
 "cells": [
  {
   "cell_type": "code",
   "execution_count": 9,
   "id": "ab6a4814",
   "metadata": {},
   "outputs": [
    {
     "name": "stdout",
     "output_type": "stream",
     "text": [
      "Institute name : Saylani Mass IT Training\n",
      "Student Full name : MuhammadAdil\n"
     ]
    }
   ],
   "source": [
    "first_name=\"Muhammad\"\n",
    "last_name=\"Adil\"\n",
    "institute_name = \"Saylani Mass IT Training\"\n",
    "\n",
    "\n",
    "card= \"Institute name : \" + institute_name +\"\\nStudent Full name : \" + first_name+ \"\"+ last_name\n",
    "print(card)"
   ]
  },
  {
   "cell_type": "code",
   "execution_count": 12,
   "id": "b13bf75b",
   "metadata": {},
   "outputs": [
    {
     "name": "stdout",
     "output_type": "stream",
     "text": [
      "Institute name : Saylani Mass IT Training\n",
      "Student Full name : Muhammad Adil\n",
      "Age : 30\n"
     ]
    }
   ],
   "source": [
    "first_name=\"Muhammad\"\n",
    "last_name=\"Adil\"\n",
    "institute_name = \"Saylani Mass IT Training\"\n",
    "age=30\n",
    "\n",
    "\n",
    "card= \"Institute name : \" + institute_name +\"\\nStudent Full name : \" + first_name+ \" \"+ last_name+\"\\nAge : \"+str(age)\n",
    "print(card)"
   ]
  },
  {
   "cell_type": "code",
   "execution_count": 16,
   "id": "e6c72599",
   "metadata": {},
   "outputs": [
    {
     "name": "stdout",
     "output_type": "stream",
     "text": [
      "Institute_name: Saylani Mass IT Training\n",
      "Full_name: Muhammad Adil\n",
      "age:30\n",
      "\n",
      "\n"
     ]
    }
   ],
   "source": [
    "first_name=\"Muhammad\"\n",
    "last_name=\"Adil\"\n",
    "institute_name = \"Saylani Mass IT Training\"\n",
    "age=30  \n",
    "\n",
    "card= \"\"\"Institute_name: {}\n",
    "Full_name: {} {}\n",
    "age:{}\n",
    "\n",
    "\"\"\".format(institute_name,first_name,last_name,age)\n",
    "print(card)"
   ]
  },
  {
   "cell_type": "code",
   "execution_count": 17,
   "id": "22ce8158",
   "metadata": {},
   "outputs": [
    {
     "name": "stdout",
     "output_type": "stream",
     "text": [
      "Institute Name:Saylani Mass IT Training\n",
      "Student Full Name:Muhammad Adil\n",
      "Age:30\n",
      "\n",
      "\n"
     ]
    }
   ],
   "source": [
    "first_name=\"Muhammad\"\n",
    "last_name=\"Adil\"\n",
    "institute_name = \"Saylani Mass IT Training\"\n",
    "age=30  \n",
    "\n",
    "card=f\"\"\"Institute Name:{institute_name}\n",
    "Student Full Name:{first_name} {last_name}\n",
    "Age:{age}\n",
    "\n",
    "\"\"\"\n",
    "print(card)"
   ]
  },
  {
   "cell_type": "code",
   "execution_count": 21,
   "id": "c58a1fde",
   "metadata": {},
   "outputs": [
    {
     "name": "stdout",
     "output_type": "stream",
     "text": [
      "Institute Name: Saylani Mass IT Training \n",
      "Student Full Name: Muhammad Adil\n",
      "Age: 30\n",
      "\n"
     ]
    }
   ],
   "source": [
    "first_name = \"Muhammad\"\n",
    "last_name = \"Adil\"\n",
    "institute_name = \"Saylani Mass IT Training\"\n",
    "age = 30\n",
    "\n",
    "\n",
    "card = \"\"\"Institute Name: %s \n",
    "Student Full Name: %s %s\n",
    "Age: %d\n",
    "\"\"\" % (institute_name, first_name, last_name, age)\n",
    "\n",
    "print(card)"
   ]
  },
  {
   "cell_type": "code",
   "execution_count": 22,
   "id": "dfb852a1",
   "metadata": {},
   "outputs": [
    {
     "name": "stdout",
     "output_type": "stream",
     "text": [
      "0 capitalize\n",
      "1 casefold\n",
      "2 center\n",
      "3 count\n",
      "4 encode\n",
      "5 endswith\n",
      "6 expandtabs\n",
      "7 find\n",
      "8 format\n",
      "9 index\n",
      "10 isalnum\n",
      "11 isalpha\n",
      "12 isascii\n",
      "13 isdecimal\n",
      "14 isdigit\n",
      "15 isidentifier\n",
      "16 islower\n",
      "17 isnumeric\n",
      "18 isprintable\n",
      "19 isspace\n",
      "20 istitle\n",
      "21 isupper\n",
      "22 join\n",
      "23 ljust\n",
      "24 lower\n",
      "25 lstrip\n",
      "26 maketrans\n",
      "27 partition\n",
      "28 removeprefix\n",
      "29 removesuffix\n",
      "30 replace\n",
      "31 rfind\n",
      "32 rindex\n",
      "33 rjust\n",
      "34 rpartition\n",
      "35 rsplit\n",
      "36 rstrip\n",
      "37 split\n",
      "38 splitlines\n",
      "39 startswith\n",
      "40 strip\n",
      "41 swapcase\n",
      "42 title\n",
      "43 translate\n",
      "44 upper\n",
      "45 zfill\n"
     ]
    }
   ],
   "source": [
    "for  idx, i in enumerate([i for i in dir(card) if \"_\" not in i]):\n",
    "    print(idx,i)"
   ]
  },
  {
   "cell_type": "code",
   "execution_count": 23,
   "id": "3f6a2866",
   "metadata": {},
   "outputs": [
    {
     "name": "stdout",
     "output_type": "stream",
     "text": [
      "Institute name: saylani mass it training \n",
      "student full name: muhammad adil\n",
      "age: 30\n",
      "\n"
     ]
    }
   ],
   "source": [
    "print(card.capitalize())"
   ]
  },
  {
   "cell_type": "code",
   "execution_count": 24,
   "id": "c59a0b71",
   "metadata": {},
   "outputs": [
    {
     "name": "stdout",
     "output_type": "stream",
     "text": [
      "institute name: saylani mass it training \n",
      "student full name: muhammad adil\n",
      "age: 30\n",
      "\n"
     ]
    }
   ],
   "source": [
    "print(card.casefold())"
   ]
  },
  {
   "cell_type": "code",
   "execution_count": 28,
   "id": "cfe061e0",
   "metadata": {},
   "outputs": [
    {
     "name": "stdout",
     "output_type": "stream",
     "text": [
      "Institute Name: Saylani Mass IT Training \n",
      "Student Full Name: Muhammad Adil\n",
      "Age: 30\n",
      "\n"
     ]
    }
   ],
   "source": [
    "print(card.center(10))\n"
   ]
  },
  {
   "cell_type": "code",
   "execution_count": 36,
   "id": "9753a4cc",
   "metadata": {},
   "outputs": [
    {
     "name": "stdout",
     "output_type": "stream",
     "text": [
      "Institute Name: Saylani Mass IT Training \n",
      "Student Full Name: Muhammad Adil\n",
      "Age: 30\n",
      "\n"
     ]
    }
   ],
   "source": [
    "print(card)"
   ]
  },
  {
   "cell_type": "code",
   "execution_count": 37,
   "id": "42953591",
   "metadata": {},
   "outputs": [
    {
     "name": "stdout",
     "output_type": "stream",
     "text": [
      "Institute Name: Saylani Mass IT Training \n",
      "Student Full Name: Muhammad Adil\n",
      "Age: 30\n",
      "\n"
     ]
    },
    {
     "data": {
      "text/plain": [
       "1"
      ]
     },
     "execution_count": 37,
     "metadata": {},
     "output_type": "execute_result"
    }
   ],
   "source": [
    "print(card)\n",
    "card.count('Adil')"
   ]
  },
  {
   "cell_type": "code",
   "execution_count": 38,
   "id": "94843582",
   "metadata": {},
   "outputs": [
    {
     "name": "stdout",
     "output_type": "stream",
     "text": [
      "b'My name is St\\\\xe5le'\n",
      "b'My name is Stle'\n",
      "b'My name is St\\\\N{LATIN SMALL LETTER A WITH RING ABOVE}le'\n",
      "b'My name is St?le'\n",
      "b'My name is St&#229;le'\n"
     ]
    }
   ],
   "source": [
    "txt = \"My name is Ståle\"\n",
    "\n",
    "print(txt.encode(encoding=\"ascii\",errors=\"backslashreplace\"))\n",
    "print(txt.encode(encoding=\"ascii\",errors=\"ignore\"))\n",
    "print(txt.encode(encoding=\"ascii\",errors=\"namereplace\"))\n",
    "print(txt.encode(encoding=\"ascii\",errors=\"replace\"))\n",
    "print(txt.encode(encoding=\"ascii\",errors=\"xmlcharrefreplace\"))"
   ]
  },
  {
   "cell_type": "code",
   "execution_count": 42,
   "id": "1a32201a",
   "metadata": {},
   "outputs": [
    {
     "name": "stdout",
     "output_type": "stream",
     "text": [
      "False\n"
     ]
    }
   ],
   "source": [
    "print(card.endswith('l'))"
   ]
  },
  {
   "cell_type": "code",
   "execution_count": 43,
   "id": "221d1ed9",
   "metadata": {},
   "outputs": [
    {
     "name": "stdout",
     "output_type": "stream",
     "text": [
      "H e l l o\n"
     ]
    }
   ],
   "source": [
    "txt = \"H\\te\\tl\\tl\\to\"\n",
    "\n",
    "x =  txt.expandtabs(2)\n",
    "\n",
    "print(x)\n"
   ]
  },
  {
   "cell_type": "code",
   "execution_count": 44,
   "id": "2bd49cef",
   "metadata": {},
   "outputs": [
    {
     "name": "stdout",
     "output_type": "stream",
     "text": [
      "70\n"
     ]
    }
   ],
   "source": [
    "print(card.find(\"Adil\"))"
   ]
  },
  {
   "cell_type": "code",
   "execution_count": 45,
   "id": "0ab8f1fb",
   "metadata": {},
   "outputs": [
    {
     "name": "stdout",
     "output_type": "stream",
     "text": [
      "1\n"
     ]
    }
   ],
   "source": [
    "animals = ['cat', 'dog', 'rabbit', 'horse']\n",
    "\n",
    "\n",
    "index = animals.index('dog')\n",
    "\n",
    "\n",
    "print(index)\n"
   ]
  },
  {
   "cell_type": "code",
   "execution_count": 46,
   "id": "6a26fb36",
   "metadata": {},
   "outputs": [
    {
     "name": "stdout",
     "output_type": "stream",
     "text": [
      "False\n"
     ]
    }
   ],
   "source": [
    "print(card.isalnum())"
   ]
  },
  {
   "cell_type": "code",
   "execution_count": 47,
   "id": "0db9d61e",
   "metadata": {},
   "outputs": [
    {
     "name": "stdout",
     "output_type": "stream",
     "text": [
      "False\n"
     ]
    }
   ],
   "source": [
    "print(card.isalpha())"
   ]
  },
  {
   "cell_type": "code",
   "execution_count": 48,
   "id": "bb1d4bc2",
   "metadata": {},
   "outputs": [
    {
     "name": "stdout",
     "output_type": "stream",
     "text": [
      "True\n"
     ]
    }
   ],
   "source": [
    "print(card.isascii())"
   ]
  },
  {
   "cell_type": "code",
   "execution_count": 49,
   "id": "f96f56ef",
   "metadata": {},
   "outputs": [
    {
     "name": "stdout",
     "output_type": "stream",
     "text": [
      "False\n"
     ]
    }
   ],
   "source": [
    "print(card.isdecimal())"
   ]
  },
  {
   "cell_type": "code",
   "execution_count": 51,
   "id": "b28c4171",
   "metadata": {},
   "outputs": [
    {
     "name": "stdout",
     "output_type": "stream",
     "text": [
      "False\n"
     ]
    }
   ],
   "source": [
    "print(card.isdigit())"
   ]
  },
  {
   "cell_type": "code",
   "execution_count": 52,
   "id": "4e475557",
   "metadata": {},
   "outputs": [
    {
     "name": "stdout",
     "output_type": "stream",
     "text": [
      "False\n"
     ]
    }
   ],
   "source": [
    "print(card.isidentifier())"
   ]
  },
  {
   "cell_type": "code",
   "execution_count": 53,
   "id": "4ea62792",
   "metadata": {},
   "outputs": [
    {
     "name": "stdout",
     "output_type": "stream",
     "text": [
      "False\n"
     ]
    }
   ],
   "source": [
    "print(card.islower())"
   ]
  },
  {
   "cell_type": "code",
   "execution_count": 54,
   "id": "14ef3282",
   "metadata": {},
   "outputs": [
    {
     "name": "stdout",
     "output_type": "stream",
     "text": [
      "False\n"
     ]
    }
   ],
   "source": [
    "print(card.isnumeric())"
   ]
  },
  {
   "cell_type": "code",
   "execution_count": 55,
   "id": "6fb6b604",
   "metadata": {},
   "outputs": [
    {
     "name": "stdout",
     "output_type": "stream",
     "text": [
      "False\n"
     ]
    }
   ],
   "source": [
    "print(card.isprintable())"
   ]
  },
  {
   "cell_type": "code",
   "execution_count": 56,
   "id": "166fb3c2",
   "metadata": {},
   "outputs": [
    {
     "name": "stdout",
     "output_type": "stream",
     "text": [
      "False\n"
     ]
    }
   ],
   "source": [
    "print(card.isspace())"
   ]
  },
  {
   "cell_type": "code",
   "execution_count": 57,
   "id": "19dbc3cc",
   "metadata": {},
   "outputs": [
    {
     "name": "stdout",
     "output_type": "stream",
     "text": [
      "False\n"
     ]
    }
   ],
   "source": [
    "print(card.istitle())"
   ]
  },
  {
   "cell_type": "code",
   "execution_count": 59,
   "id": "83f84ab3",
   "metadata": {},
   "outputs": [
    {
     "name": "stdout",
     "output_type": "stream",
     "text": [
      "False\n"
     ]
    }
   ],
   "source": [
    "print(card.isupper())"
   ]
  },
  {
   "cell_type": "code",
   "execution_count": 60,
   "id": "62bb3ca4",
   "metadata": {},
   "outputs": [
    {
     "name": "stdout",
     "output_type": "stream",
     "text": [
      "1-2-3-4\n"
     ]
    }
   ],
   "source": [
    "# elements in tuples\n",
    "list1 = ('1', '2', '3', '4')\n",
    " \n",
    "\n",
    "s = \"-\"\n",
    " \n",
    "\n",
    "s = s.join(list1)\n",
    "\n",
    "print(s)"
   ]
  },
  {
   "cell_type": "code",
   "execution_count": 61,
   "id": "15dc031e",
   "metadata": {},
   "outputs": [
    {
     "name": "stdout",
     "output_type": "stream",
     "text": [
      "Hello Pam!\n"
     ]
    }
   ],
   "source": [
    "txt = \"Hello Sam!\"\n",
    "\n",
    "mytable = str.maketrans(\"S\", \"P\")\n",
    "\n",
    "print(txt.translate(mytable))\n"
   ]
  },
  {
   "cell_type": "code",
   "execution_count": 62,
   "id": "cb1cd175",
   "metadata": {},
   "outputs": [
    {
     "name": "stdout",
     "output_type": "stream",
     "text": [
      "Geeks\n"
     ]
    }
   ],
   "source": [
    "new_string = 'GeeksforGeeks'.removeprefix(\"Geeksfor\")\n",
    "print(new_string)"
   ]
  },
  {
   "cell_type": "code",
   "execution_count": 63,
   "id": "6525d4a5",
   "metadata": {},
   "outputs": [
    {
     "name": "stdout",
     "output_type": "stream",
     "text": [
      "              banana is my favorite fruit.\n"
     ]
    }
   ],
   "source": [
    "txt = \"banana\"\n",
    "\n",
    "x = txt.rjust(20)\n",
    "\n",
    "print(x, \"is my favorite fruit.\")"
   ]
  },
  {
   "cell_type": "code",
   "execution_count": 64,
   "id": "e53d43a8",
   "metadata": {},
   "outputs": [
    {
     "name": "stdout",
     "output_type": "stream",
     "text": [
      "Institute Name: Saylani Mass IT Training \n",
      "Student Full Name: Muhammad Adil\n",
      "Age: 30\n"
     ]
    }
   ],
   "source": [
    "print(card.strip())"
   ]
  },
  {
   "cell_type": "code",
   "execution_count": 65,
   "id": "c8edb680",
   "metadata": {},
   "outputs": [
    {
     "name": "stdout",
     "output_type": "stream",
     "text": [
      "iNSTITUTE nAME: sAYLANI mASS it tRAINING \n",
      "sTUDENT fULL nAME: mUHAMMAD aDIL\n",
      "aGE: 30\n",
      "\n"
     ]
    }
   ],
   "source": [
    "print(card.swapcase())"
   ]
  },
  {
   "cell_type": "code",
   "execution_count": 66,
   "id": "4eb399f7",
   "metadata": {},
   "outputs": [
    {
     "name": "stdout",
     "output_type": "stream",
     "text": [
      "Institute Name: Saylani Mass It Training \n",
      "Student Full Name: Muhammad Adil\n",
      "Age: 30\n",
      "\n"
     ]
    }
   ],
   "source": [
    "print(card.title())"
   ]
  },
  {
   "cell_type": "code",
   "execution_count": 69,
   "id": "43cac15f",
   "metadata": {},
   "outputs": [
    {
     "name": "stdout",
     "output_type": "stream",
     "text": [
      "Institute Name: Saylani Mass IT Training \n",
      "Student Full Name: Muhammad Adil\n",
      "Age: 30\n",
      "\n"
     ]
    }
   ],
   "source": [
    "print(card.zfill(10))"
   ]
  },
  {
   "cell_type": "code",
   "execution_count": null,
   "id": "394ef668",
   "metadata": {},
   "outputs": [],
   "source": []
  }
 ],
 "metadata": {
  "kernelspec": {
   "display_name": "Python 3 (ipykernel)",
   "language": "python",
   "name": "python3"
  },
  "language_info": {
   "codemirror_mode": {
    "name": "ipython",
    "version": 3
   },
   "file_extension": ".py",
   "mimetype": "text/x-python",
   "name": "python",
   "nbconvert_exporter": "python",
   "pygments_lexer": "ipython3",
   "version": "3.9.12"
  }
 },
 "nbformat": 4,
 "nbformat_minor": 5
}
